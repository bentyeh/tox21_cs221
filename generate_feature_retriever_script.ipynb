{
 "cells": [
  {
   "cell_type": "code",
   "execution_count": 22,
   "metadata": {},
   "outputs": [],
   "source": [
    "import random"
   ]
  },
  {
   "cell_type": "code",
   "execution_count": 23,
   "metadata": {},
   "outputs": [],
   "source": [
    "assay_names = ['nr-ahr', 'nr-ar-lbd', 'nr-aromatase', 'nr-ar', 'nr-er-lbd', 'nr-er', 'nr-ppar-gamma', 'sr-are', 'sr-atad5', 'sr-hse', 'sr-mmp', 'sr-p53']\n",
    "smiles_dir = 'data_raw'\n",
    "smiles_file_ext = 'smiles'\n",
    "datasets = ['train','test','score']\n",
    "features_dir = 'data_features'\n",
    "features_file_ext = 'features'\n",
    "attempts = 15\n",
    "delay = 1.0"
   ]
  },
  {
   "cell_type": "code",
   "execution_count": 24,
   "metadata": {},
   "outputs": [],
   "source": [
    "def instance(file, assay_name, smiles_dir, smiles_file_ext, dataset, features_dir, features_file_ext, attempts, delay):\n",
    "    '''\n",
    "    Arguments: hyperparameters\n",
    "        file: str\n",
    "        assay_name: str\n",
    "        smiles_dir: str\n",
    "        smiles_file_ext: str\n",
    "        dataset: str\n",
    "        features_dir: str\n",
    "        features_file_ext: str\n",
    "        attempts: int\n",
    "        delay: float\n",
    "    \n",
    "    Return: string command for running 'file' with specified parameters.\n",
    "        If parsing the parameters somehow fails, returns None.\n",
    "    '''\n",
    "    try:\n",
    "        return 'python -u %s --assay_name %s --smiles_dir %s --smiles_file_ext %s --dataset %s --features_dir %s --features_file_ext %s --attempts %s --delay %s' % (file, \n",
    "            assay_name, smiles_dir, smiles_file_ext, dataset, features_dir, features_file_ext, str(attempts), str(delay))\n",
    "    except:\n",
    "        return None"
   ]
  },
  {
   "cell_type": "code",
   "execution_count": 25,
   "metadata": {},
   "outputs": [],
   "source": [
    "feature_retriever_script_file = 'feature_retriever_script'\n",
    "file = 'smiles_to_features.py'\n",
    "run_id = 0\n",
    "\n",
    "with open(feature_retriever_script_file, 'w') as f:\n",
    "    for assay_name in assay_names:\n",
    "        for dataset in datasets:\n",
    "            if dataset == 'train':\n",
    "                out = instance(file, assay_name, smiles_dir, smiles_file_ext, dataset, features_dir, features_file_ext, attempts, random.uniform(2.0, 5.0))\n",
    "            else:\n",
    "                out = instance(file, assay_name, smiles_dir, smiles_file_ext, dataset, features_dir, features_file_ext, attempts, random.uniform(4.0, 10.0))\n",
    "            if out != None:\n",
    "                f.write(out + ' > ' + str(run_id) + '.out &\\n')\n",
    "                run_id += 1"
   ]
  }
 ],
 "metadata": {
  "kernelspec": {
   "display_name": "Python 3",
   "language": "python",
   "name": "python3"
  },
  "language_info": {
   "codemirror_mode": {
    "name": "ipython",
    "version": 3
   },
   "file_extension": ".py",
   "mimetype": "text/x-python",
   "name": "python",
   "nbconvert_exporter": "python",
   "pygments_lexer": "ipython3",
   "version": "3.6.3"
  }
 },
 "nbformat": 4,
 "nbformat_minor": 2
}
